{
 "cells": [
  {
   "attachments": {},
   "cell_type": "markdown",
   "metadata": {},
   "source": [
    "# KML do nalotów"
   ]
  },
  {
   "attachments": {},
   "cell_type": "markdown",
   "metadata": {},
   "source": [
    "widgety do wprowadzania danych"
   ]
  },
  {
   "cell_type": "code",
   "execution_count": 60,
   "metadata": {
    "tags": []
   },
   "outputs": [
    {
     "data": {
      "application/vnd.jupyter.widget-view+json": {
       "model_id": "1e5809cedefd4a8199b724a75c3ecc8b",
       "version_major": 2,
       "version_minor": 0
      },
      "text/plain": [
       "BoundedFloatText(value=50.936667, description='Lat:', max=60.0)"
      ]
     },
     "metadata": {},
     "output_type": "display_data"
    },
    {
     "data": {
      "application/vnd.jupyter.widget-view+json": {
       "model_id": "c1f04d2091e64489bf620716ec790fc4",
       "version_major": 2,
       "version_minor": 0
      },
      "text/plain": [
       "BoundedFloatText(value=16.861389, description='Lon:', max=20.0)"
      ]
     },
     "metadata": {},
     "output_type": "display_data"
    },
    {
     "data": {
      "application/vnd.jupyter.widget-view+json": {
       "model_id": "1fbb3f591ad3444f993a3d7e6d361e3b",
       "version_major": 2,
       "version_minor": 0
      },
      "text/plain": [
       "BoundedFloatText(value=50.0, description='Radius:', max=200.0)"
      ]
     },
     "metadata": {},
     "output_type": "display_data"
    },
    {
     "data": {
      "application/vnd.jupyter.widget-view+json": {
       "model_id": "268956f2dd1a474d96d3911ec86063d3",
       "version_major": 2,
       "version_minor": 0
      },
      "text/plain": [
       "BoundedIntText(value=16, description='Num Points:', min=2)"
      ]
     },
     "metadata": {},
     "output_type": "display_data"
    },
    {
     "data": {
      "application/vnd.jupyter.widget-view+json": {
       "model_id": "0f776558c55f424ea1bd0470edd3bd73",
       "version_major": 2,
       "version_minor": 0
      },
      "text/plain": [
       "BoundedIntText(value=8, description='Num Axes:', max=20, min=2)"
      ]
     },
     "metadata": {},
     "output_type": "display_data"
    }
   ],
   "source": [
    "import ipywidgets as widgets\n",
    "wLat = widgets.BoundedFloatText(\n",
    " value=50.936667,\n",
    " min=0,\n",
    " max=60,\n",
    " description='Lat:'\n",
    " )\n",
    "wLon = widgets.BoundedFloatText(\n",
    " value=16.861389,\n",
    " min=0,\n",
    " max=20,\n",
    " description='Lon:'\n",
    " )\n",
    "wRadius = widgets.BoundedFloatText(\n",
    " value=50,\n",
    " min=0,\n",
    " max=200,\n",
    " description='Radius:'\n",
    " )\n",
    "wNumpoints = widgets.BoundedIntText(\n",
    " value=16,\n",
    " min=2,\n",
    " max=100,\n",
    " description='Num Points:'\n",
    " )\n",
    "wNumaxes = widgets.BoundedIntText(\n",
    " value=8,\n",
    " min=2,\n",
    " max=20,\n",
    " description='Num Axes:'\n",
    " )\n",
    "\n",
    "display(wLat,wLon,wRadius,wNumpoints, wNumaxes)"
   ]
  },
  {
   "cell_type": "code",
   "execution_count": 61,
   "metadata": {},
   "outputs": [],
   "source": [
    "num_points = wNumpoints.value\n",
    "num_axes = wNumaxes.value\n",
    "lat = wLat.value\n",
    "lon = wLon.value\n",
    "radius = wRadius.value\n"
   ]
  },
  {
   "cell_type": "code",
   "execution_count": 62,
   "metadata": {},
   "outputs": [],
   "source": [
    "import math\n",
    "from pyproj import Transformer\n",
    "angle = 2 * math.pi / num_points\n",
    "transformer = Transformer.from_crs(\"EPSG:4326\", \"EPSG:3857\")\n",
    "invtransformer = Transformer.from_crs(\"EPSG:3857\",\"EPSG:4326\")\n",
    "(x,y) = transformer.transform(lat, lon)\n",
    "pointsMetric = [  [ \n",
    "        x + (radius * math.cos(i * angle)),\n",
    "        y + (radius * math.sin(i * angle))\n",
    "        ] for i in range(num_points)]\n",
    "points = list(map(lambda p : invtransformer.transform(p[0],p[1]),pointsMetric))"
   ]
  },
  {
   "cell_type": "code",
   "execution_count": 63,
   "metadata": {},
   "outputs": [],
   "source": [
    "angleAxes = 2 * math.pi / num_axes\n",
    "# pointMap = map(lambda i: [ \n",
    "#         lat + (radius * math.cos(i * angle)),\n",
    "#         lon + (radius * math.sin(i * angle))]\n",
    "#         , range(wNumpoints.value))\n",
    "# points = list(pointMap)"
   ]
  },
  {
   "cell_type": "code",
   "execution_count": 64,
   "metadata": {},
   "outputs": [
    {
     "data": {
      "application/vnd.jupyter.widget-view+json": {
       "model_id": "80e6434f5a8a4873af8f9cd23544e9cb",
       "version_major": 2,
       "version_minor": 0
      },
      "text/plain": [
       "Map(center=[50.936667, 16.861389], controls=(ZoomControl(options=['position', 'zoom_in_text', 'zoom_in_title',…"
      ]
     },
     "metadata": {},
     "output_type": "display_data"
    }
   ],
   "source": [
    "from ipyleaflet import Map, basemaps, Marker, Polyline, Polygon,ScaleControl,MeasureControl\n",
    "\n",
    "# Latitude, longitude\n",
    "mapa =Map(center = (lat, lon), zoom = 17, min_zoom = 1, max_zoom = 20, \n",
    "    basemap=basemaps.OpenStreetMap.Mapnik)\n",
    "# for p in points:\n",
    "#  marker = Marker(location=p, draggable=False)\n",
    "#  mapa.add_layer(marker)\n",
    "measure = MeasureControl(\n",
    "    position='bottomleft',\n",
    "    active_color = 'orange',\n",
    "    primary_length_unit = 'meters',\n",
    "    completed_color = 'red'\n",
    ")\n",
    "mapa.add_control(measure)\n",
    "mapa.add_control(ScaleControl(position='bottomleft'))\n",
    "\n",
    "linia = Polygon(locations=points,\n",
    "    color=\"green\" ,\n",
    "    fill=True)\n",
    "mapa.add_layer(linia) \n",
    "display(mapa)"
   ]
  }
 ],
 "metadata": {
  "kernelspec": {
   "display_name": "Python 3",
   "language": "python",
   "name": "python3"
  },
  "language_info": {
   "codemirror_mode": {
    "name": "ipython",
    "version": 3
   },
   "file_extension": ".py",
   "mimetype": "text/x-python",
   "name": "python",
   "nbconvert_exporter": "python",
   "pygments_lexer": "ipython3",
   "version": "3.11.0"
  },
  "orig_nbformat": 4
 },
 "nbformat": 4,
 "nbformat_minor": 2
}
