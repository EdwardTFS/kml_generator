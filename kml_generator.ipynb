{
 "cells": [
  {
   "cell_type": "code",
   "execution_count": 11,
   "metadata": {
    "tags": []
   },
   "outputs": [
    {
     "data": {
      "application/vnd.jupyter.widget-view+json": {
       "model_id": "680eaed1b0de4f05b41c8f7aa20b6c26",
       "version_major": 2,
       "version_minor": 0
      },
      "text/plain": [
       "BoundedFloatText(value=50.936667, description='Lat:', max=60.0, min=50.0)"
      ]
     },
     "metadata": {},
     "output_type": "display_data"
    },
    {
     "data": {
      "application/vnd.jupyter.widget-view+json": {
       "model_id": "7a322e06ec924eb09e3c4e495b4f7699",
       "version_major": 2,
       "version_minor": 0
      },
      "text/plain": [
       "BoundedFloatText(value=16.861389, description='Lon:', max=20.0, min=10.0)"
      ]
     },
     "metadata": {},
     "output_type": "display_data"
    },
    {
     "data": {
      "application/vnd.jupyter.widget-view+json": {
       "model_id": "5100d659992d4a37bbaa77d3603884a6",
       "version_major": 2,
       "version_minor": 0
      },
      "text/plain": [
       "BoundedFloatText(value=50.0, description='Radius:', max=200.0)"
      ]
     },
     "metadata": {},
     "output_type": "display_data"
    },
    {
     "data": {
      "application/vnd.jupyter.widget-view+json": {
       "model_id": "c4787c70aea44a90a59b3d9503ba1b84",
       "version_major": 2,
       "version_minor": 0
      },
      "text/plain": [
       "BoundedIntText(value=16, description='Num Points:', min=2)"
      ]
     },
     "metadata": {},
     "output_type": "display_data"
    }
   ],
   "source": [
    "import ipywidgets as widgets\n",
    "wLat = widgets.BoundedFloatText(\n",
    " value=50.936667,\n",
    " min=50,\n",
    " max=60,\n",
    " description='Lat:'\n",
    " )\n",
    "wLon = widgets.BoundedFloatText(\n",
    " value=16.861389,\n",
    " min=10,\n",
    " max=20,\n",
    " description='Lon:'\n",
    " )\n",
    "wRadius = widgets.BoundedFloatText(\n",
    " value=50,\n",
    " min=0,\n",
    " max=200,\n",
    " description='Radius:'\n",
    " )\n",
    "wNumpoints = widgets.BoundedIntText(\n",
    " value=16,\n",
    " min=2,\n",
    " max=100,\n",
    " description='Num Points:'\n",
    " )\n",
    "\n",
    "display(wLat,wLon,wRadius,wNumpoints)"
   ]
  },
  {
   "cell_type": "code",
   "execution_count": 13,
   "metadata": {},
   "outputs": [],
   "source": [
    "import math\n",
    "num_points = wNumpoints.value\n",
    "lat = wLat.value\n",
    "lon = wLon.value\n",
    "radius = wRadius.value\n",
    "angle = 2 * math.pi / num_points\n",
    "points = list(map(lambda i: ( lat + (radius * math.cos(i * angle)),\n",
    "        lon + (radius * math.sin(i * angle))), range(wNumpoints.value)))"
   ]
  },
  {
   "cell_type": "code",
   "execution_count": 20,
   "metadata": {},
   "outputs": [
    {
     "data": {
      "application/vnd.jupyter.widget-view+json": {
       "model_id": "edf9ba4c0efd436a919103c13813cd84",
       "version_major": 2,
       "version_minor": 0
      },
      "text/plain": [
       "Map(center=[50.936667, 16.861389], controls=(ZoomControl(options=['position', 'zoom_in_text', 'zoom_in_title',…"
      ]
     },
     "metadata": {},
     "output_type": "display_data"
    }
   ],
   "source": [
    "from ipyleaflet import Map, basemaps, Marker\n",
    "\n",
    "# Map centred on (60 degrees latitude et -2.2 degrees longitude)\n",
    "# Latitude, longitude\n",
    "map =Map(center = (lat, lon), zoom = 3, min_zoom = 1, max_zoom = 20, \n",
    "    basemap=basemaps.Stamen.Terrain)\n",
    "for p in points:\n",
    " marker = Marker(location=p, draggable=False)\n",
    " map.add_layer(marker)\n",
    "display(map)"
   ]
  }
 ],
 "metadata": {
  "kernelspec": {
   "display_name": "Python 3",
   "language": "python",
   "name": "python3"
  },
  "language_info": {
   "codemirror_mode": {
    "name": "ipython",
    "version": 3
   },
   "file_extension": ".py",
   "mimetype": "text/x-python",
   "name": "python",
   "nbconvert_exporter": "python",
   "pygments_lexer": "ipython3",
   "version": "3.11.0"
  },
  "orig_nbformat": 4
 },
 "nbformat": 4,
 "nbformat_minor": 2
}
