{
 "cells": [
  {
   "cell_type": "markdown",
   "metadata": {},
   "source": [
    "# KML do nalotów"
   ]
  },
  {
   "cell_type": "markdown",
   "metadata": {},
   "source": [
    "widgety do wprowadzania danych"
   ]
  },
  {
   "cell_type": "code",
   "execution_count": 1,
   "metadata": {},
   "outputs": [],
   "source": [
    "#setup UI\n",
    "import ipywidgets as widgets\n",
    "lat = 50.936667\n",
    "wLat = widgets.BoundedFloatText(\n",
    " value=lat,\n",
    " min=0,\n",
    " max=60,\n",
    " description='Lat:'\n",
    " )\n",
    "lon = 16.861389\n",
    "wLon = widgets.BoundedFloatText(\n",
    " value=16.861389,\n",
    " min=0,\n",
    " max=20,\n",
    " description='Lon:'\n",
    " )\n",
    "radius = 50\n",
    "wRadius = widgets.BoundedFloatText(\n",
    " value=radius,\n",
    " min=0,\n",
    " max=200,\n",
    " description='Radius:'\n",
    " )\n",
    "wNumpoints = widgets.BoundedIntText(\n",
    " value=16,\n",
    " min=2,\n",
    " max=100,\n",
    " description='Num Points:'\n",
    " )\n",
    "wNumaxes = widgets.BoundedIntText(\n",
    " value=8,\n",
    " min=2,\n",
    " max=20,\n",
    " description='Num Axes:'\n",
    " )\n",
    "bCalculate = widgets.Button(\n",
    "    description='Policz',\n",
    "    icon='check' # (FontAwesome names without the `fa-` prefix),\n",
    ")"
   ]
  },
  {
   "cell_type": "code",
   "execution_count": 2,
   "metadata": {},
   "outputs": [],
   "source": [
    "#setup map\n",
    "from ipyleaflet import Map, basemaps, basemap_to_tiles,LayersControl,ScaleControl,MeasureControl,\\\n",
    "  LayerGroup,Marker, Polygon \n",
    "\n",
    "\n",
    "mapnik = basemap_to_tiles(basemaps.OpenStreetMap.Mapnik)\n",
    "mapnik.base = True\n",
    "mapnik.name = 'Mapnik Layer'\n",
    "\n",
    "toner = basemap_to_tiles(basemaps.Stamen.Toner)\n",
    "toner.base = True\n",
    "toner.name = 'Toner Layer'\n",
    "\n",
    "bzh = basemap_to_tiles(basemaps.OpenStreetMap.BZH)\n",
    "bzh.base = True\n",
    "bzh.name = 'BZH layer'\n",
    "\n",
    "mapa =Map(center = (wLat.value, wLon.value), zoom = 17, min_zoom = 1, max_zoom = 20, \n",
    "    layers=[mapnik, toner, bzh])\n",
    "\n",
    "measure = MeasureControl(\n",
    "    position='bottomright',\n",
    "    active_color = 'orange',\n",
    "    primary_length_unit = 'meters',\n",
    "    primary_area_unit = 'sqmeters',\n",
    "    completed_color = 'red'\n",
    ")\n",
    "mapa.add_control(measure)\n",
    "mapa.add_control(ScaleControl(position='bottomleft'))\n",
    "mapa.add_control(LayersControl(position='topright'))\n",
    "\n",
    "centerMarker = Marker(location=(wLat.value, wLon.value), draggable=True, name=\"Środek\")\n",
    "def centerMarker_on_location_changed(event):\n",
    "  wLat.value, wLon.value = centerMarker.location\n",
    "\n",
    "centerMarker.observe(centerMarker_on_location_changed, 'location')\n",
    "mapa.add_layer(centerMarker)\n",
    "pointsLayer = LayerGroup(name = 'Linie')\n",
    "mapa.add_layer(pointsLayer)\n"
   ]
  },
  {
   "cell_type": "code",
   "execution_count": 3,
   "metadata": {},
   "outputs": [],
   "source": [
    "#setup calculations\n",
    "import math\n",
    "from pyproj import Transformer, CRS, transform\n",
    "points =[]\n",
    "def calculate():\n",
    "  global points\n",
    "  global lat, lon, radius\n",
    "  num_points = wNumpoints.value\n",
    "  num_axes = wNumaxes.value\n",
    "  lat = wLat.value\n",
    "  lon = wLon.value\n",
    "  radius = wRadius.value\n",
    "\n",
    "\n",
    "  #Source projection\n",
    "  sourceProj = CRS('epsg:4326')\n",
    "  #Azimuthal Equidistant projection centred on your origin point\n",
    "  localProj = CRS(proj=\"aeqd\", lat_0=lat, lon_0=lon, datum=\"WGS84\", units=\"m\")\n",
    "  transformer = Transformer.from_crs(sourceProj,localProj)\n",
    "  invtransformer = Transformer.from_crs(localProj,sourceProj)\n",
    "  \n",
    "  x,y = transformer.transform(lat, lon)\n",
    "  angle = 2 * math.pi / num_points\n",
    "\n",
    "  pointsLocal = [( \n",
    "    x + (radius * math.cos(i * angle)),\n",
    "    y + (radius * math.sin(i * angle))\n",
    "    ) for i in range(num_points)]\n",
    "  points = [*invtransformer.itransform(pointsLocal)]\n",
    "\n",
    "  #angleAxes = 2 * math.pi / num_axes\n",
    "  # pointMap = map(lambda i: [ \n",
    "  #         lat + (radius * math.cos(i * angle)),\n",
    "  #         lon + (radius * math.sin(i * angle))]\n",
    "  #         , range(wNumpoints.value))\n",
    "  # points = list(pointMap)\n",
    "  centerMarker.location =(lat,lon)\n",
    "  mapa.center = (lat,lon)\n",
    "  linia = Polygon(locations=points,\n",
    "    color=\"green\" ,\n",
    "    fill=True)\n",
    "  pointsLayer.clear_layers()\n",
    "  pointsLayer.add_layer(linia) \n",
    " \n",
    "def bCalculate_on_click(e):\n",
    "  calculate()\n",
    "bCalculate.on_click(bCalculate_on_click)\n",
    "  "
   ]
  },
  {
   "cell_type": "code",
   "execution_count": 4,
   "metadata": {
    "tags": []
   },
   "outputs": [
    {
     "data": {
      "application/vnd.jupyter.widget-view+json": {
       "model_id": "2ad09e39c31b4443963b3d2813e68d0e",
       "version_major": 2,
       "version_minor": 0
      },
      "text/plain": [
       "BoundedFloatText(value=50.936667, description='Lat:', max=60.0)"
      ]
     },
     "metadata": {},
     "output_type": "display_data"
    },
    {
     "data": {
      "application/vnd.jupyter.widget-view+json": {
       "model_id": "81e624e5308b4da5b7d2a05c7f21529b",
       "version_major": 2,
       "version_minor": 0
      },
      "text/plain": [
       "BoundedFloatText(value=16.861389, description='Lon:', max=20.0)"
      ]
     },
     "metadata": {},
     "output_type": "display_data"
    },
    {
     "data": {
      "application/vnd.jupyter.widget-view+json": {
       "model_id": "9ff982dc59d54f12ae6ba7b9bf70f4ed",
       "version_major": 2,
       "version_minor": 0
      },
      "text/plain": [
       "BoundedFloatText(value=50.0, description='Radius:', max=200.0)"
      ]
     },
     "metadata": {},
     "output_type": "display_data"
    },
    {
     "data": {
      "application/vnd.jupyter.widget-view+json": {
       "model_id": "4c6f6c9a14014fe7b939a2403678d52f",
       "version_major": 2,
       "version_minor": 0
      },
      "text/plain": [
       "BoundedIntText(value=16, description='Num Points:', min=2)"
      ]
     },
     "metadata": {},
     "output_type": "display_data"
    },
    {
     "data": {
      "application/vnd.jupyter.widget-view+json": {
       "model_id": "8a73b1dbcc2e49b9a7645f4b7e13e8b9",
       "version_major": 2,
       "version_minor": 0
      },
      "text/plain": [
       "BoundedIntText(value=8, description='Num Axes:', max=20, min=2)"
      ]
     },
     "metadata": {},
     "output_type": "display_data"
    },
    {
     "data": {
      "application/vnd.jupyter.widget-view+json": {
       "model_id": "b4a61080aa4f417ea1ff12f7b968844b",
       "version_major": 2,
       "version_minor": 0
      },
      "text/plain": [
       "Button(description='Policz', icon='check', style=ButtonStyle())"
      ]
     },
     "metadata": {},
     "output_type": "display_data"
    },
    {
     "data": {
      "application/vnd.jupyter.widget-view+json": {
       "model_id": "a137904df44944fa8c8c60c7f87264ab",
       "version_major": 2,
       "version_minor": 0
      },
      "text/plain": [
       "Map(center=[50.936667, 16.861389], controls=(ZoomControl(options=['position', 'zoom_in_text', 'zoom_in_title',…"
      ]
     },
     "metadata": {},
     "output_type": "display_data"
    }
   ],
   "source": [
    "#UI\n",
    "display(wLat,wLon,wRadius,wNumpoints, wNumaxes,bCalculate)\n",
    "display(mapa)"
   ]
  },
  {
   "cell_type": "code",
   "execution_count": 5,
   "metadata": {},
   "outputs": [],
   "source": [
    "#simple kml\n",
    "import simplekml\n",
    "def getkml():\n",
    "  kml = simplekml.Kml(name = \"Nalot\")\n",
    "  for idx, p in enumerate(points):\n",
    "    #kml lon, lat , alt - lon WE, lat -NS czyli inaczej niż wyżej\n",
    "    kml.newpoint(name=idx+1, coords=[[*reversed(p)]])\n",
    "  return kml\n"
   ]
  },
  {
   "cell_type": "code",
   "execution_count": 6,
   "metadata": {},
   "outputs": [],
   "source": [
    "#pykml\n",
    "from pykml.factory import nsmap\n",
    "from pykml.factory import KML_ElementMaker as KML\n",
    "from pykml.factory import GX_ElementMaker as GX\n",
    "from pykml.parser import Schema\n",
    "from lxml import etree\n",
    "\n",
    "def prinstSaveKml2():\n",
    "  # define a variable for the Google Extensions namespace URL string\n",
    "  gxns = '{' + nsmap['gx'] + '}'\n",
    "\n",
    "  feature_list = [\n",
    "    {\n",
    "        'name':\"Punkt\",\n",
    "        'desc':'Wokół tego ma latać',\n",
    "        'lon': lon,'lat': lat, 'tilt':45, 'range':radius,\n",
    "    } #,\n",
    "    # {\n",
    "    #     'name':\"Ayers Rock\",\n",
    "    #     'desc':'Northern Territory, central Australia',\n",
    "    #     'lon':131.035,'lat':-25.345, 'tilt':88, 'range':5000,\n",
    "    # },\n",
    "    # {\n",
    "    #     'name':\"Landscape Arch\",\n",
    "    #     'desc':'Arches National Park, Utah, USA',\n",
    "    #     'lon':-109.607,'lat':38.791, 'tilt':60, 'range':500,\n",
    "    # },\n",
    "    # {\n",
    "    #     'name':\"Manicouagan Crater\",\n",
    "    #     'desc':'Quebec, Canada',\n",
    "    #     'lon':-68.7, 'lat':51.38, 'tilt':45, 'range':100000,\n",
    "    # },\n",
    "    # {\n",
    "    #     'name':\"Upheaval Dome\",\n",
    "    #     'desc':'Canyonlands National Park, Utah, USA',\n",
    "    #     'lon':-109.929, 'lat':38.437, 'tilt':60, 'range':4000,\n",
    "    # },\n",
    "    # {\n",
    "    #     'name':\"Racetrack Playa\",\n",
    "    #     'desc':'Death Valley, California, USA',\n",
    "    #     'lon':-117.56, 'lat':36.679, 'tilt':45, 'range':8000\n",
    "    # },\n",
    "    # {\n",
    "    #     'name':\"Matterhorn\",\n",
    "    #     'desc':'Pennine Alps, Switzerland/Italy',\n",
    "    #     'lon':7.6584, 'lat':45.9766, 'tilt':60, 'range':6000,\n",
    "    # },\n",
    "  ]\n",
    "  # start with a base KML tour and playlist\n",
    "  tour_doc = KML.kml(\n",
    "    KML.Document(\n",
    "      GX.Tour(\n",
    "        KML.name(\"Play me!\"),\n",
    "        GX.Playlist(),\n",
    "      ),\n",
    "      KML.Folder(\n",
    "        KML.name('Features'),\n",
    "        id='features',\n",
    "      ),\n",
    "    )\n",
    "  )\n",
    "  for feature in feature_list:\n",
    "    #import ipdb; ipdb.set_trace()\n",
    "    # fly to a space viewpoint\n",
    "    tour_doc.Document[gxns+\"Tour\"].Playlist.append(\n",
    "      GX.FlyTo(\n",
    "        GX.duration(5),\n",
    "        GX.flyToMode(\"smooth\"),\n",
    "        KML.LookAt(\n",
    "          KML.longitude(feature['lon']),\n",
    "          KML.latitude(feature['lat']),\n",
    "          KML.altitude(0),\n",
    "          KML.heading(0),\n",
    "          KML.tilt(0),\n",
    "          KML.range(10000000.0),\n",
    "          KML.altitudeMode(\"relativeToGround\"),\n",
    "        )\n",
    "      ),\n",
    "    )\n",
    "    # fly to the feature\n",
    "    tour_doc.Document[gxns+\"Tour\"].Playlist.append(\n",
    "      GX.FlyTo(\n",
    "        GX.duration(5),\n",
    "        GX.flyToMode(\"bounce\"),\n",
    "        KML.LookAt(\n",
    "          KML.longitude(feature['lon']),\n",
    "          KML.latitude(feature['lat']),\n",
    "          KML.altitude(0),\n",
    "          KML.heading(0),\n",
    "          KML.tilt(feature['tilt']),\n",
    "          KML.range(feature['range']),\n",
    "          KML.altitudeMode(\"relativeToGround\"),\n",
    "        )\n",
    "      ),\n",
    "    )\n",
    "    # spin around the feature\n",
    "    for aspect in range(0,360,10):\n",
    "        tour_doc.Document[gxns+\"Tour\"].Playlist.append(\n",
    "          GX.FlyTo(\n",
    "            GX.duration(0.25),\n",
    "            GX.flyToMode(\"smooth\"),\n",
    "            KML.LookAt(\n",
    "              KML.longitude(feature['lon']),\n",
    "              KML.latitude(feature['lat']),\n",
    "              KML.altitude(0),\n",
    "              KML.heading(aspect),\n",
    "              KML.tilt(feature['tilt']),\n",
    "              KML.range(feature['range']),\n",
    "              KML.altitudeMode(\"relativeToGround\"),\n",
    "            )\n",
    "          )\n",
    "        )\n",
    "    tour_doc.Document[gxns+\"Tour\"].Playlist.append(GX.Wait(GX.duration(1.0)))\n",
    "    \n",
    "  #    tour_doc.Document[gxns+\"Tour\"].Playlist.append(\n",
    "  #        GX.TourControl(GX.playMode(\"pause\"))\n",
    "  #    )\n",
    "    \n",
    "    # add a placemark for the feature\n",
    "    tour_doc.Document.Folder.append(\n",
    "      KML.Placemark(\n",
    "        KML.name(\"?\"),\n",
    "        KML.description(\n",
    "            \"<h1>{name}</h1><br/>{desc}\".format(\n",
    "                    name=feature['name'],\n",
    "                    desc=feature['desc'],\n",
    "            )\n",
    "        ),\n",
    "        KML.Point(\n",
    "          KML.extrude(1),\n",
    "          KML.altitudeMode(\"relativeToGround\"),\n",
    "          KML.coordinates(\"{lon},{lat},{alt}\".format(\n",
    "                  lon=feature['lon'],\n",
    "                  lat=feature['lat'],\n",
    "                  alt=50,\n",
    "              )\n",
    "          )\n",
    "        ),\n",
    "        id=feature['name'].replace(' ','_')\n",
    "      )\n",
    "    )\n",
    "    # show the placemark balloon\n",
    "    tour_doc.Document[gxns+\"Tour\"].Playlist.append(\n",
    "        GX.AnimatedUpdate(\n",
    "          GX.duration(2.0),\n",
    "          KML.Update(\n",
    "            KML.targetHref(),\n",
    "            KML.Change(\n",
    "              KML.Placemark(\n",
    "                KML.visibility(1),\n",
    "                GX.balloonVisibility(1),\n",
    "                targetId=feature['name'].replace(' ','_')\n",
    "              )\n",
    "            )\n",
    "          )\n",
    "        )\n",
    "    )\n",
    "    \n",
    "    tour_doc.Document[gxns+\"Tour\"].Playlist.append(GX.Wait(GX.duration(2.0)))\n",
    "    \n",
    "    tour_doc.Document[gxns+\"Tour\"].Playlist.append(\n",
    "        GX.AnimatedUpdate(\n",
    "          GX.duration(2.0),\n",
    "          KML.Update(\n",
    "            KML.targetHref(),\n",
    "            KML.Change(\n",
    "              KML.Placemark(\n",
    "                GX.balloonVisibility(0),\n",
    "                targetId=feature['name'].replace(' ','_')\n",
    "              )\n",
    "            )\n",
    "          )\n",
    "        )\n",
    "    )\n",
    "    # fly to a space viewpoint\n",
    "    tour_doc.Document[gxns+\"Tour\"].Playlist.append(\n",
    "      GX.FlyTo(\n",
    "        GX.duration(5),\n",
    "        GX.flyToMode(\"bounce\"),\n",
    "        KML.LookAt(\n",
    "          KML.longitude(feature['lon']),\n",
    "          KML.latitude(feature['lat']),\n",
    "          KML.altitude(0),\n",
    "          KML.heading(0),\n",
    "          KML.tilt(0),\n",
    "          KML.range(10000000.0),\n",
    "          KML.altitudeMode(\"relativeToGround\"),\n",
    "        )\n",
    "      ),\n",
    "    )\n",
    "\n",
    "  # check that the KML document is valid using the Google Extension XML Schema\n",
    "  #assert(Schema(\"kml22gx.xsd\").validate(tour_doc))\n",
    "\n",
    "  kml_xml = etree.tostring(tour_doc, pretty_print=True, encoding = \"unicode\")\n",
    "  print(kml_xml)\n",
    "\n",
    "  # output a KML file (named based on the Python script)\n",
    "  with open(\"punkty2.kml\", \"w\") as kml_file:\n",
    "    kml_file.write(kml_xml)"
   ]
  },
  {
   "cell_type": "code",
   "execution_count": 8,
   "metadata": {},
   "outputs": [
    {
     "data": {
      "application/vnd.jupyter.widget-view+json": {
       "model_id": "c7b6a34c643e4454b5a45844b43194ea",
       "version_major": 2,
       "version_minor": 0
      },
      "text/plain": [
       "Button(description='Pokaż KML', icon='cloud', style=ButtonStyle())"
      ]
     },
     "metadata": {},
     "output_type": "display_data"
    },
    {
     "data": {
      "application/vnd.jupyter.widget-view+json": {
       "model_id": "5384941f202f4ed0bc2300af55401273",
       "version_major": 2,
       "version_minor": 0
      },
      "text/plain": [
       "Button(description='Zapisz KML', icon='floppy-o', style=ButtonStyle())"
      ]
     },
     "metadata": {},
     "output_type": "display_data"
    },
    {
     "data": {
      "application/vnd.jupyter.widget-view+json": {
       "model_id": "0a08f8cb5cca4b15bead4bb3bcca989d",
       "version_major": 2,
       "version_minor": 0
      },
      "text/plain": [
       "Button(description='Inny KML', icon='ravelry', style=ButtonStyle())"
      ]
     },
     "metadata": {},
     "output_type": "display_data"
    }
   ],
   "source": [
    "#kml ui\n",
    "bGenerateKml = widgets.Button(\n",
    "    description='Pokaż KML',\n",
    "    icon='cloud' # (FontAwesome names without the `fa-` prefix),\n",
    ")\n",
    "bSaveKml = widgets.Button(\n",
    "    description='Zapisz KML',\n",
    "    icon='floppy-o',\n",
    ")\n",
    "bKml2 = widgets.Button(\n",
    "    description='Inny KML',\n",
    "    icon='ravelry',\n",
    ")\n",
    "\n",
    "def bGenerateKml_on_click(e):\n",
    "  print(getkml().kml())\n",
    "bGenerateKml.on_click(bGenerateKml_on_click)\n",
    "\n",
    "def bSaveKml_on_click(e):\n",
    "  getkml().save(\"punkty.kml\")\n",
    "bSaveKml.on_click(bSaveKml_on_click)\n",
    "\n",
    "def bKml2_on_click(e):\n",
    "  prinstSaveKml2()\n",
    "bKml2.on_click(bKml2_on_click)\n",
    "\n",
    "prinstSaveKml2\n",
    "display(bGenerateKml,bSaveKml,bKml2)\n"
   ]
  }
 ],
 "metadata": {
  "kernelspec": {
   "display_name": "Python 3 (ipykernel)",
   "language": "python",
   "name": "python3"
  },
  "language_info": {
   "codemirror_mode": {
    "name": "ipython",
    "version": 3
   },
   "file_extension": ".py",
   "mimetype": "text/x-python",
   "name": "python",
   "nbconvert_exporter": "python",
   "pygments_lexer": "ipython3",
   "version": "3.11.0"
  },
  "vscode": {
   "interpreter": {
    "hash": "c261aea317cc0286b3b3261fbba9abdec21eaa57589985bb7a274bf54d6cc0a7"
   }
  }
 },
 "nbformat": 4,
 "nbformat_minor": 2
}
