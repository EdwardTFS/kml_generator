{
 "cells": [
  {
   "cell_type": "markdown",
   "metadata": {},
   "source": [
    "# KML do nalotów"
   ]
  },
  {
   "cell_type": "markdown",
   "metadata": {},
   "source": [
    "widgety do wprowadzania danych"
   ]
  },
  {
   "cell_type": "code",
   "execution_count": 5,
   "metadata": {},
   "outputs": [],
   "source": [
    "#setup UI\n",
    "import ipywidgets as widgets\n",
    "wLat = widgets.BoundedFloatText(\n",
    " value=50.936667,\n",
    " min=0,\n",
    " max=60,\n",
    " description='Lat:'\n",
    " )\n",
    "wLon = widgets.BoundedFloatText(\n",
    " value=16.861389,\n",
    " min=0,\n",
    " max=20,\n",
    " description='Lon:'\n",
    " )\n",
    "wRadius = widgets.BoundedFloatText(\n",
    " value=50,\n",
    " min=0,\n",
    " max=200,\n",
    " description='Radius:'\n",
    " )\n",
    "wNumpoints = widgets.BoundedIntText(\n",
    " value=16,\n",
    " min=2,\n",
    " max=100,\n",
    " description='Num Points:'\n",
    " )\n",
    "wNumaxes = widgets.BoundedIntText(\n",
    " value=8,\n",
    " min=2,\n",
    " max=20,\n",
    " description='Num Axes:'\n",
    " )\n",
    "bCalculate = widgets.Button(\n",
    "    description='Policz',\n",
    "    icon='check' # (FontAwesome names without the `fa-` prefix),\n",
    ")"
   ]
  },
  {
   "cell_type": "code",
   "execution_count": 6,
   "metadata": {},
   "outputs": [],
   "source": [
    "#setup map\n",
    "from ipyleaflet import Map, basemaps, basemap_to_tiles,LayersControl,ScaleControl,MeasureControl,\\\n",
    "  LayerGroup,Marker, Polygon \n",
    "\n",
    "\n",
    "mapnik = basemap_to_tiles(basemaps.OpenStreetMap.Mapnik)\n",
    "mapnik.base = True\n",
    "mapnik.name = 'Mapnik Layer'\n",
    "\n",
    "toner = basemap_to_tiles(basemaps.Stamen.Toner)\n",
    "toner.base = True\n",
    "toner.name = 'Toner Layer'\n",
    "\n",
    "bzh = basemap_to_tiles(basemaps.OpenStreetMap.BZH)\n",
    "bzh.base = True\n",
    "bzh.name = 'BZH layer'\n",
    "\n",
    "mapa =Map(center = (wLat.value, wLon.value), zoom = 17, min_zoom = 1, max_zoom = 20, \n",
    "    layers=[mapnik, toner, bzh])\n",
    "\n",
    "measure = MeasureControl(\n",
    "    position='bottomright',\n",
    "    active_color = 'orange',\n",
    "    primary_length_unit = 'meters',\n",
    "    primary_area_unit = 'sqmeters',\n",
    "    completed_color = 'red'\n",
    ")\n",
    "mapa.add_control(measure)\n",
    "mapa.add_control(ScaleControl(position='bottomleft'))\n",
    "mapa.add_control(LayersControl(position='topright'))\n",
    "\n",
    "centerMarker = Marker(location=(wLat.value, wLon.value), draggable=True, name=\"Środek\")\n",
    "def centerMarker_on_location_changed(event):\n",
    "  wLat.value, wLon.value = centerMarker.location\n",
    "\n",
    "centerMarker.observe(centerMarker_on_location_changed, 'location')\n",
    "mapa.add_layer(centerMarker)\n",
    "pointsLayer = LayerGroup(name = 'Linie')\n",
    "mapa.add_layer(pointsLayer)\n"
   ]
  },
  {
   "cell_type": "code",
   "execution_count": 7,
   "metadata": {},
   "outputs": [],
   "source": [
    "#setup calculations\n",
    "import math\n",
    "from pyproj import Transformer, CRS, transform\n",
    "def calculate():\n",
    "  num_points = wNumpoints.value\n",
    "  num_axes = wNumaxes.value\n",
    "  lat = wLat.value\n",
    "  lon = wLon.value\n",
    "  radius = wRadius.value\n",
    "\n",
    "\n",
    "  #Source projection\n",
    "  sourceProj = CRS('epsg:4326')\n",
    "  #Azimuthal Equidistant projection centred on your origin point\n",
    "  localProj = CRS(proj=\"aeqd\", lat_0=lat, lon_0=lon, datum=\"WGS84\", units=\"m\")\n",
    "  transformer = Transformer.from_crs(sourceProj,localProj)\n",
    "  invtransformer = Transformer.from_crs(localProj,sourceProj)\n",
    "  \n",
    "  x,y = transformer.transform(lat, lon)\n",
    "  angle = 2 * math.pi / num_points\n",
    "\n",
    "  pointsLocal = [( \n",
    "    x + (radius * math.cos(i * angle)),\n",
    "    y + (radius * math.sin(i * angle))\n",
    "    ) for i in range(num_points)]\n",
    "  points = [*invtransformer.itransform(pointsLocal)]\n",
    "\n",
    "  #angleAxes = 2 * math.pi / num_axes\n",
    "  # pointMap = map(lambda i: [ \n",
    "  #         lat + (radius * math.cos(i * angle)),\n",
    "  #         lon + (radius * math.sin(i * angle))]\n",
    "  #         , range(wNumpoints.value))\n",
    "  # points = list(pointMap)\n",
    "  centerMarker.location =(lat,lon)\n",
    "  mapa.center = (lat,lon)\n",
    "  linia = Polygon(locations=points,\n",
    "    color=\"green\" ,\n",
    "    fill=True)\n",
    "  pointsLayer.clear_layers()\n",
    "  pointsLayer.add_layer(linia) \n",
    " \n",
    "def bCalculate_on_click(e):\n",
    "  calculate()\n",
    "bCalculate.on_click(bCalculate_on_click)\n",
    "  "
   ]
  },
  {
   "cell_type": "code",
   "execution_count": 8,
   "metadata": {
    "tags": []
   },
   "outputs": [
    {
     "data": {
      "application/vnd.jupyter.widget-view+json": {
       "model_id": "55e6ff2a6ef24e7ea28ff79e2fd82add",
       "version_major": 2,
       "version_minor": 0
      },
      "text/plain": [
       "BoundedFloatText(value=50.936667, description='Lat:', max=60.0)"
      ]
     },
     "metadata": {},
     "output_type": "display_data"
    },
    {
     "data": {
      "application/vnd.jupyter.widget-view+json": {
       "model_id": "31b1a2d641ca4f969312b86ad16bc84a",
       "version_major": 2,
       "version_minor": 0
      },
      "text/plain": [
       "BoundedFloatText(value=16.861389, description='Lon:', max=20.0)"
      ]
     },
     "metadata": {},
     "output_type": "display_data"
    },
    {
     "data": {
      "application/vnd.jupyter.widget-view+json": {
       "model_id": "ba3f5f9b6b864b4e98522d0d8064e269",
       "version_major": 2,
       "version_minor": 0
      },
      "text/plain": [
       "BoundedFloatText(value=50.0, description='Radius:', max=200.0)"
      ]
     },
     "metadata": {},
     "output_type": "display_data"
    },
    {
     "data": {
      "application/vnd.jupyter.widget-view+json": {
       "model_id": "8ba86cdd51014fab81b2f9022831b12c",
       "version_major": 2,
       "version_minor": 0
      },
      "text/plain": [
       "BoundedIntText(value=16, description='Num Points:', min=2)"
      ]
     },
     "metadata": {},
     "output_type": "display_data"
    },
    {
     "data": {
      "application/vnd.jupyter.widget-view+json": {
       "model_id": "9424999283544dd48b5a691a2f7963e3",
       "version_major": 2,
       "version_minor": 0
      },
      "text/plain": [
       "BoundedIntText(value=8, description='Num Axes:', max=20, min=2)"
      ]
     },
     "metadata": {},
     "output_type": "display_data"
    },
    {
     "data": {
      "application/vnd.jupyter.widget-view+json": {
       "model_id": "f9b27ee67bb6411c964e562c867522d4",
       "version_major": 2,
       "version_minor": 0
      },
      "text/plain": [
       "Button(description='Policz', icon='check', style=ButtonStyle())"
      ]
     },
     "metadata": {},
     "output_type": "display_data"
    },
    {
     "data": {
      "application/vnd.jupyter.widget-view+json": {
       "model_id": "96b0d9eb69a0491ea57a45610c111945",
       "version_major": 2,
       "version_minor": 0
      },
      "text/plain": [
       "Map(center=[50.936667, 16.861389], controls=(ZoomControl(options=['position', 'zoom_in_text', 'zoom_in_title',…"
      ]
     },
     "metadata": {},
     "output_type": "display_data"
    }
   ],
   "source": [
    "#UI\n",
    "display(wLat,wLon,wRadius,wNumpoints, wNumaxes,bCalculate)\n",
    "display(mapa)"
   ]
  }
 ],
 "metadata": {
  "kernelspec": {
   "display_name": "Python 3 (ipykernel)",
   "language": "python",
   "name": "python3"
  },
  "language_info": {
   "codemirror_mode": {
    "name": "ipython",
    "version": 3
   },
   "file_extension": ".py",
   "mimetype": "text/x-python",
   "name": "python",
   "nbconvert_exporter": "python",
   "pygments_lexer": "ipython3",
   "version": "3.11.0"
  },
  "vscode": {
   "interpreter": {
    "hash": "c261aea317cc0286b3b3261fbba9abdec21eaa57589985bb7a274bf54d6cc0a7"
   }
  }
 },
 "nbformat": 4,
 "nbformat_minor": 2
}
