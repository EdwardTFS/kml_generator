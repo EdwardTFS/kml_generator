{
 "cells": [
  {
   "cell_type": "markdown",
   "metadata": {},
   "source": [
    "# KML do nalotów"
   ]
  },
  {
   "cell_type": "markdown",
   "metadata": {},
   "source": [
    "widgety do wprowadzania danych"
   ]
  },
  {
   "cell_type": "code",
   "execution_count": 15,
   "metadata": {},
   "outputs": [],
   "source": [
    "#setup UI\n",
    "import ipywidgets as widgets\n",
    "wLat = widgets.BoundedFloatText(\n",
    " value=50.936667,\n",
    " min=0,\n",
    " max=60,\n",
    " description='Lat:'\n",
    " )\n",
    "wLon = widgets.BoundedFloatText(\n",
    " value=16.861389,\n",
    " min=0,\n",
    " max=20,\n",
    " description='Lon:'\n",
    " )\n",
    "wRadius = widgets.BoundedFloatText(\n",
    " value=50,\n",
    " min=0,\n",
    " max=200,\n",
    " description='Radius:'\n",
    " )\n",
    "wNumpoints = widgets.BoundedIntText(\n",
    " value=16,\n",
    " min=2,\n",
    " max=100,\n",
    " description='Num Points:'\n",
    " )\n",
    "wNumaxes = widgets.BoundedIntText(\n",
    " value=8,\n",
    " min=2,\n",
    " max=20,\n",
    " description='Num Axes:'\n",
    " )\n",
    "bCalculate = widgets.Button(\n",
    "    description='Policz',\n",
    "    icon='check' # (FontAwesome names without the `fa-` prefix),\n",
    ")"
   ]
  },
  {
   "cell_type": "code",
   "execution_count": 16,
   "metadata": {},
   "outputs": [],
   "source": [
    "#setup map\n",
    "from ipyleaflet import Map, basemaps, basemap_to_tiles,LayersControl,ScaleControl,MeasureControl,\\\n",
    "  LayerGroup,Marker, Polygon \n",
    "\n",
    "\n",
    "mapnik = basemap_to_tiles(basemaps.OpenStreetMap.Mapnik)\n",
    "mapnik.base = True\n",
    "mapnik.name = 'Mapnik Layer'\n",
    "\n",
    "toner = basemap_to_tiles(basemaps.Stamen.Toner)\n",
    "toner.base = True\n",
    "toner.name = 'Toner Layer'\n",
    "\n",
    "bzh = basemap_to_tiles(basemaps.OpenStreetMap.BZH)\n",
    "bzh.base = True\n",
    "bzh.name = 'BZH layer'\n",
    "\n",
    "mapa =Map(center = (wLat.value, wLon.value), zoom = 17, min_zoom = 1, max_zoom = 20, \n",
    "    layers=[mapnik, toner, bzh])\n",
    "\n",
    "measure = MeasureControl(\n",
    "    position='bottomright',\n",
    "    active_color = 'orange',\n",
    "    primary_length_unit = 'meters',\n",
    "    primary_area_unit = 'sqmeters',\n",
    "    completed_color = 'red'\n",
    ")\n",
    "mapa.add_control(measure)\n",
    "mapa.add_control(ScaleControl(position='bottomleft'))\n",
    "mapa.add_control(LayersControl(position='topright'))\n",
    "\n",
    "centerMarker = Marker(location=(wLat.value, wLon.value), draggable=True, name=\"Środek\")\n",
    "def centerMarker_on_location_changed(event):\n",
    "  wLat.value, wLon.value = centerMarker.location\n",
    "\n",
    "centerMarker.observe(centerMarker_on_location_changed, 'location')\n",
    "mapa.add_layer(centerMarker)\n",
    "pointsLayer = LayerGroup(name = 'Linie')\n",
    "mapa.add_layer(pointsLayer)\n"
   ]
  },
  {
   "cell_type": "code",
   "execution_count": 17,
   "metadata": {},
   "outputs": [],
   "source": [
    "#setup calculations\n",
    "import math\n",
    "from pyproj import Transformer, CRS, transform\n",
    "points =[]\n",
    "def calculate():\n",
    "  global points\n",
    "  num_points = wNumpoints.value\n",
    "  num_axes = wNumaxes.value\n",
    "  lat = wLat.value\n",
    "  lon = wLon.value\n",
    "  radius = wRadius.value\n",
    "\n",
    "\n",
    "  #Source projection\n",
    "  sourceProj = CRS('epsg:4326')\n",
    "  #Azimuthal Equidistant projection centred on your origin point\n",
    "  localProj = CRS(proj=\"aeqd\", lat_0=lat, lon_0=lon, datum=\"WGS84\", units=\"m\")\n",
    "  transformer = Transformer.from_crs(sourceProj,localProj)\n",
    "  invtransformer = Transformer.from_crs(localProj,sourceProj)\n",
    "  \n",
    "  x,y = transformer.transform(lat, lon)\n",
    "  angle = 2 * math.pi / num_points\n",
    "\n",
    "  pointsLocal = [( \n",
    "    x + (radius * math.cos(i * angle)),\n",
    "    y + (radius * math.sin(i * angle))\n",
    "    ) for i in range(num_points)]\n",
    "  points = [*invtransformer.itransform(pointsLocal)]\n",
    "\n",
    "  #angleAxes = 2 * math.pi / num_axes\n",
    "  # pointMap = map(lambda i: [ \n",
    "  #         lat + (radius * math.cos(i * angle)),\n",
    "  #         lon + (radius * math.sin(i * angle))]\n",
    "  #         , range(wNumpoints.value))\n",
    "  # points = list(pointMap)\n",
    "  centerMarker.location =(lat,lon)\n",
    "  mapa.center = (lat,lon)\n",
    "  linia = Polygon(locations=points,\n",
    "    color=\"green\" ,\n",
    "    fill=True)\n",
    "  pointsLayer.clear_layers()\n",
    "  pointsLayer.add_layer(linia) \n",
    " \n",
    "def bCalculate_on_click(e):\n",
    "  calculate()\n",
    "bCalculate.on_click(bCalculate_on_click)\n",
    "  "
   ]
  },
  {
   "cell_type": "code",
   "execution_count": 18,
   "metadata": {
    "tags": []
   },
   "outputs": [
    {
     "data": {
      "application/vnd.jupyter.widget-view+json": {
       "model_id": "6bc468ddc6cc4ab6a6a440143b5d452e",
       "version_major": 2,
       "version_minor": 0
      },
      "text/plain": [
       "BoundedFloatText(value=50.936667, description='Lat:', max=60.0)"
      ]
     },
     "metadata": {},
     "output_type": "display_data"
    },
    {
     "data": {
      "application/vnd.jupyter.widget-view+json": {
       "model_id": "46741f6ddfbf4882af8c50173ddd4b7f",
       "version_major": 2,
       "version_minor": 0
      },
      "text/plain": [
       "BoundedFloatText(value=16.861389, description='Lon:', max=20.0)"
      ]
     },
     "metadata": {},
     "output_type": "display_data"
    },
    {
     "data": {
      "application/vnd.jupyter.widget-view+json": {
       "model_id": "dc49da2476764bccbc412154838a31b3",
       "version_major": 2,
       "version_minor": 0
      },
      "text/plain": [
       "BoundedFloatText(value=50.0, description='Radius:', max=200.0)"
      ]
     },
     "metadata": {},
     "output_type": "display_data"
    },
    {
     "data": {
      "application/vnd.jupyter.widget-view+json": {
       "model_id": "e28cd039724f442984398bde3dd06b8b",
       "version_major": 2,
       "version_minor": 0
      },
      "text/plain": [
       "BoundedIntText(value=16, description='Num Points:', min=2)"
      ]
     },
     "metadata": {},
     "output_type": "display_data"
    },
    {
     "data": {
      "application/vnd.jupyter.widget-view+json": {
       "model_id": "f73a7e2a63834443bd2d92838a0c22f0",
       "version_major": 2,
       "version_minor": 0
      },
      "text/plain": [
       "BoundedIntText(value=8, description='Num Axes:', max=20, min=2)"
      ]
     },
     "metadata": {},
     "output_type": "display_data"
    },
    {
     "data": {
      "application/vnd.jupyter.widget-view+json": {
       "model_id": "12b24f546fec49249fd98dea69861828",
       "version_major": 2,
       "version_minor": 0
      },
      "text/plain": [
       "Button(description='Policz', icon='check', style=ButtonStyle())"
      ]
     },
     "metadata": {},
     "output_type": "display_data"
    },
    {
     "data": {
      "application/vnd.jupyter.widget-view+json": {
       "model_id": "13c3b14a32224078ad690f0663ddea6e",
       "version_major": 2,
       "version_minor": 0
      },
      "text/plain": [
       "Map(center=[50.936667, 16.861389], controls=(ZoomControl(options=['position', 'zoom_in_text', 'zoom_in_title',…"
      ]
     },
     "metadata": {},
     "output_type": "display_data"
    }
   ],
   "source": [
    "#UI\n",
    "display(wLat,wLon,wRadius,wNumpoints, wNumaxes,bCalculate)\n",
    "display(mapa)"
   ]
  },
  {
   "cell_type": "code",
   "execution_count": 29,
   "metadata": {},
   "outputs": [],
   "source": [
    "#simple kml\n",
    "import simplekml\n",
    "def getkml():\n",
    "  kml = simplekml.Kml(name = \"Nalot\")\n",
    "  for idx, p in enumerate(points):\n",
    "    #kml lon, lat , alt - lon WE, lat -NS czyli inaczej niż wyżej\n",
    "    kml.newpoint(name=idx+1, coords=[[*reversed(p)]])\n",
    "  return kml\n"
   ]
  },
  {
   "cell_type": "code",
   "execution_count": 30,
   "metadata": {},
   "outputs": [
    {
     "data": {
      "application/vnd.jupyter.widget-view+json": {
       "model_id": "061d31f2012547d2ab543177c5147c23",
       "version_major": 2,
       "version_minor": 0
      },
      "text/plain": [
       "Button(description='Pokaż KML', icon='cloud', style=ButtonStyle())"
      ]
     },
     "metadata": {},
     "output_type": "display_data"
    },
    {
     "data": {
      "application/vnd.jupyter.widget-view+json": {
       "model_id": "fc35b967099640caa453d7dcc3807b52",
       "version_major": 2,
       "version_minor": 0
      },
      "text/plain": [
       "Button(description='Zapisz KML', icon='floppy-o', style=ButtonStyle())"
      ]
     },
     "metadata": {},
     "output_type": "display_data"
    },
    {
     "ename": "TypeError",
     "evalue": "object of type 'reversed' has no len()",
     "output_type": "error",
     "traceback": [
      "\u001b[1;31m---------------------------------------------------------------------------\u001b[0m",
      "\u001b[1;31mTypeError\u001b[0m                                 Traceback (most recent call last)",
      "Cell \u001b[1;32mIn[30], line 11\u001b[0m, in \u001b[0;36mbGenerateKml_on_click\u001b[1;34m(e)\u001b[0m\n\u001b[0;32m     10\u001b[0m \u001b[39mdef\u001b[39;00m \u001b[39mbGenerateKml_on_click\u001b[39m(e):\n\u001b[1;32m---> 11\u001b[0m   \u001b[39mprint\u001b[39m(getkml()\u001b[39m.\u001b[39mkml())\n",
      "Cell \u001b[1;32mIn[29], line 7\u001b[0m, in \u001b[0;36mgetkml\u001b[1;34m()\u001b[0m\n\u001b[0;32m      4\u001b[0m kml \u001b[39m=\u001b[39m simplekml\u001b[39m.\u001b[39mKml(name \u001b[39m=\u001b[39m \u001b[39m\"\u001b[39m\u001b[39mNalot\u001b[39m\u001b[39m\"\u001b[39m)\n\u001b[0;32m      5\u001b[0m \u001b[39mfor\u001b[39;00m idx, p \u001b[39min\u001b[39;00m \u001b[39menumerate\u001b[39m(points):\n\u001b[0;32m      6\u001b[0m   \u001b[39m#kml lon, lat , alt - lon WE, lat -NS czyli inaczej niż wyżej\u001b[39;00m\n\u001b[1;32m----> 7\u001b[0m   kml\u001b[39m.\u001b[39;49mnewpoint(name\u001b[39m=\u001b[39;49midx\u001b[39m+\u001b[39;49m\u001b[39m1\u001b[39;49m, coords\u001b[39m=\u001b[39;49m[\u001b[39mreversed\u001b[39;49m(p)])\n\u001b[0;32m      8\u001b[0m \u001b[39mreturn\u001b[39;00m kml\n",
      "File \u001b[1;32m~\\AppData\\Roaming\\Python\\Python311\\site-packages\\simplekml\\kml.py:387\u001b[0m, in \u001b[0;36mKml.newpoint\u001b[1;34m(self, **kwargs)\u001b[0m\n\u001b[0;32m    380\u001b[0m \u001b[39mdef\u001b[39;00m \u001b[39mnewpoint\u001b[39m(\u001b[39mself\u001b[39m, \u001b[39m*\u001b[39m\u001b[39m*\u001b[39mkwargs):\n\u001b[0;32m    381\u001b[0m \u001b[39m    \u001b[39m\u001b[39m\"\"\"\u001b[39;00m\n\u001b[0;32m    382\u001b[0m \u001b[39m    Creates a new :class:`simplekml.Point`.\u001b[39;00m\n\u001b[0;32m    383\u001b[0m \n\u001b[0;32m    384\u001b[0m \u001b[39m    The point is attached to this KML document. The arguments are the same as those for :class:`simplekml.Point`\u001b[39;00m\n\u001b[0;32m    385\u001b[0m \u001b[39m    See :class:`simplekml.Point` for usage.\u001b[39;00m\n\u001b[0;32m    386\u001b[0m \u001b[39m    \"\"\"\u001b[39;00m\n\u001b[1;32m--> 387\u001b[0m     \u001b[39mreturn\u001b[39;00m \u001b[39mself\u001b[39;49m\u001b[39m.\u001b[39;49mdocument\u001b[39m.\u001b[39;49mnewpoint(\u001b[39m*\u001b[39;49m\u001b[39m*\u001b[39;49mkwargs)\n",
      "File \u001b[1;32m~\\AppData\\Roaming\\Python\\Python311\\site-packages\\simplekml\\featgeom.py:564\u001b[0m, in \u001b[0;36mContainer.newpoint\u001b[1;34m(self, **kwargs)\u001b[0m\n\u001b[0;32m    556\u001b[0m \u001b[39mdef\u001b[39;00m \u001b[39mnewpoint\u001b[39m(\u001b[39mself\u001b[39m, \u001b[39m*\u001b[39m\u001b[39m*\u001b[39mkwargs):\n\u001b[0;32m    557\u001b[0m \u001b[39m    \u001b[39m\u001b[39m\"\"\"Creates a new :class:`simplekml.Point` and attaches it to this KML document.\u001b[39;00m\n\u001b[0;32m    558\u001b[0m \n\u001b[0;32m    559\u001b[0m \u001b[39m    Arguments are the same as :class:`simplekml.Point`\u001b[39;00m\n\u001b[1;32m   (...)\u001b[0m\n\u001b[0;32m    562\u001b[0m \u001b[39m      * an instance of :class:`simplekml.Point` class.\u001b[39;00m\n\u001b[0;32m    563\u001b[0m \u001b[39m    \"\"\"\u001b[39;00m\n\u001b[1;32m--> 564\u001b[0m     \u001b[39mreturn\u001b[39;00m \u001b[39mself\u001b[39;49m\u001b[39m.\u001b[39;49m_newfeature(Point, \u001b[39m*\u001b[39;49m\u001b[39m*\u001b[39;49mkwargs)\n",
      "File \u001b[1;32m~\\AppData\\Roaming\\Python\\Python311\\site-packages\\simplekml\\featgeom.py:545\u001b[0m, in \u001b[0;36mContainer._newfeature\u001b[1;34m(self, cls, **kwargs)\u001b[0m\n\u001b[0;32m    541\u001b[0m \u001b[39mdef\u001b[39;00m \u001b[39m_newfeature\u001b[39m(\u001b[39mself\u001b[39m, \u001b[39mcls\u001b[39m, \u001b[39m*\u001b[39m\u001b[39m*\u001b[39mkwargs):\n\u001b[0;32m    542\u001b[0m \u001b[39m    \u001b[39m\u001b[39m\"\"\"Creates a new feature from the given class and attaches it to this\u001b[39;00m\n\u001b[0;32m    543\u001b[0m \u001b[39m    feature.\u001b[39;00m\n\u001b[0;32m    544\u001b[0m \u001b[39m    \"\"\"\u001b[39;00m\n\u001b[1;32m--> 545\u001b[0m     feat \u001b[39m=\u001b[39m \u001b[39mcls\u001b[39;49m(\u001b[39m*\u001b[39;49m\u001b[39m*\u001b[39;49mkwargs)\n\u001b[0;32m    546\u001b[0m     feat\u001b[39m.\u001b[39m_parent \u001b[39m=\u001b[39m \u001b[39mself\u001b[39m\n\u001b[0;32m    547\u001b[0m     \u001b[39mif\u001b[39;00m \u001b[39misinstance\u001b[39m(feat, Geometry):\n",
      "File \u001b[1;32m~\\AppData\\Roaming\\Python\\Python311\\site-packages\\simplekml\\featgeom.py:1223\u001b[0m, in \u001b[0;36mPoint.__init__\u001b[1;34m(self, extrude, altitudemode, gxaltitudemode, **kwargs)\u001b[0m\n\u001b[0;32m   1218\u001b[0m \u001b[39mdef\u001b[39;00m \u001b[39m__init__\u001b[39m(\u001b[39mself\u001b[39m,\n\u001b[0;32m   1219\u001b[0m              extrude\u001b[39m=\u001b[39m\u001b[39mNone\u001b[39;00m,\n\u001b[0;32m   1220\u001b[0m              altitudemode\u001b[39m=\u001b[39m\u001b[39mNone\u001b[39;00m,\n\u001b[0;32m   1221\u001b[0m              gxaltitudemode\u001b[39m=\u001b[39m\u001b[39mNone\u001b[39;00m,\n\u001b[0;32m   1222\u001b[0m              \u001b[39m*\u001b[39m\u001b[39m*\u001b[39mkwargs):\n\u001b[1;32m-> 1223\u001b[0m     \u001b[39msuper\u001b[39;49m(Point, \u001b[39mself\u001b[39;49m)\u001b[39m.\u001b[39;49m\u001b[39m__init__\u001b[39;49m(\u001b[39m*\u001b[39;49m\u001b[39m*\u001b[39;49mkwargs)\n\u001b[0;32m   1224\u001b[0m     \u001b[39mself\u001b[39m\u001b[39m.\u001b[39m_kml[\u001b[39m'\u001b[39m\u001b[39mextrude\u001b[39m\u001b[39m'\u001b[39m] \u001b[39m=\u001b[39m extrude\n\u001b[0;32m   1225\u001b[0m     \u001b[39mself\u001b[39m\u001b[39m.\u001b[39m_kml[\u001b[39m'\u001b[39m\u001b[39maltitudeMode\u001b[39m\u001b[39m'\u001b[39m] \u001b[39m=\u001b[39m altitudemode\n",
      "File \u001b[1;32m~\\AppData\\Roaming\\Python\\Python311\\site-packages\\simplekml\\featgeom.py:1066\u001b[0m, in \u001b[0;36mPointGeometry.__init__\u001b[1;34m(self, coords, **kwargs)\u001b[0m\n\u001b[0;32m   1064\u001b[0m \u001b[39msuper\u001b[39m(PointGeometry, \u001b[39mself\u001b[39m)\u001b[39m.\u001b[39m\u001b[39m__init__\u001b[39m(\u001b[39m*\u001b[39m\u001b[39m*\u001b[39mkwargs)\n\u001b[0;32m   1065\u001b[0m \u001b[39mself\u001b[39m\u001b[39m.\u001b[39m_kml[\u001b[39m'\u001b[39m\u001b[39mcoordinates\u001b[39m\u001b[39m'\u001b[39m] \u001b[39m=\u001b[39m Coordinates()\n\u001b[1;32m-> 1066\u001b[0m \u001b[39mself\u001b[39;49m\u001b[39m.\u001b[39;49m_kml[\u001b[39m'\u001b[39;49m\u001b[39mcoordinates\u001b[39;49m\u001b[39m'\u001b[39;49m]\u001b[39m.\u001b[39;49maddcoordinates(\u001b[39mlist\u001b[39;49m(coords))\n",
      "File \u001b[1;32m~\\AppData\\Roaming\\Python\\Python311\\site-packages\\simplekml\\coordinates.py:28\u001b[0m, in \u001b[0;36mCoordinates.addcoordinates\u001b[1;34m(self, coords)\u001b[0m\n\u001b[0;32m     26\u001b[0m newcoords \u001b[39m=\u001b[39m []\n\u001b[0;32m     27\u001b[0m \u001b[39mfor\u001b[39;00m coord \u001b[39min\u001b[39;00m coords:\n\u001b[1;32m---> 28\u001b[0m     \u001b[39mif\u001b[39;00m \u001b[39mlen\u001b[39m(coord) \u001b[39m==\u001b[39m \u001b[39m2\u001b[39m:\n\u001b[0;32m     29\u001b[0m         coord \u001b[39m=\u001b[39m (coord[\u001b[39m0\u001b[39m], coord[\u001b[39m1\u001b[39m], \u001b[39m0.0\u001b[39m)\n\u001b[0;32m     30\u001b[0m     newcoords\u001b[39m.\u001b[39mappend(coord)\n",
      "\u001b[1;31mTypeError\u001b[0m: object of type 'reversed' has no len()"
     ]
    }
   ],
   "source": [
    "#kml ui\n",
    "bGenerateKml = widgets.Button(\n",
    "    description='Pokaż KML',\n",
    "    icon='cloud' # (FontAwesome names without the `fa-` prefix),\n",
    ")\n",
    "bSaveKml = widgets.Button(\n",
    "    description='Zapisz KML',\n",
    "    icon='floppy-o',\n",
    ")\n",
    "def bGenerateKml_on_click(e):\n",
    "  print(getkml().kml())\n",
    "bGenerateKml.on_click(bGenerateKml_on_click)\n",
    "def bSaveKml_on_click(e):\n",
    "  getkml().save(\"punkty.kml\")\n",
    "bSaveKml.on_click(bSaveKml_on_click)\n",
    "\n",
    "display(bGenerateKml,bSaveKml)\n"
   ]
  }
 ],
 "metadata": {
  "kernelspec": {
   "display_name": "Python 3 (ipykernel)",
   "language": "python",
   "name": "python3"
  },
  "language_info": {
   "codemirror_mode": {
    "name": "ipython",
    "version": 3
   },
   "file_extension": ".py",
   "mimetype": "text/x-python",
   "name": "python",
   "nbconvert_exporter": "python",
   "pygments_lexer": "ipython3",
   "version": "3.11.0"
  },
  "vscode": {
   "interpreter": {
    "hash": "c261aea317cc0286b3b3261fbba9abdec21eaa57589985bb7a274bf54d6cc0a7"
   }
  }
 },
 "nbformat": 4,
 "nbformat_minor": 2
}
